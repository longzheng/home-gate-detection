{
 "cells": [
  {
   "cell_type": "markdown",
   "metadata": {},
   "source": [
    "### Install packages\n",
    "\n",
    "Run `pip install -r requirements.txt` to install the required packages."
   ]
  },
  {
   "cell_type": "markdown",
   "metadata": {},
   "source": [
    "### prepare training data/images\n",
    "loop over images in `/sample/original` to crop them to just the gate for training"
   ]
  },
  {
   "cell_type": "code",
   "execution_count": null,
   "metadata": {},
   "outputs": [],
   "source": [
    "from PIL import Image\n",
    "import glob\n",
    "import shutil\n",
    "\n",
    "# get all JPG images from the ./sample/original folder\n",
    "original_jpg_files = glob.glob('./sample/original/*.jpg')\n",
    "\n",
    "# clear cropped folder\n",
    "shutil.rmtree('./sample/cropped', ignore_errors=True)\n",
    "\n",
    "# make cropped folder\n",
    "shutil.os.mkdir('./sample/cropped')\n",
    "\n",
    "for index, file in enumerate(original_jpg_files):\n",
    "    im = Image.open(file)\n",
    "\n",
    "    # dimensions of just the gate in the image\n",
    "    left = 2142\n",
    "    top = 333\n",
    "    right = left + 585\n",
    "    bottom = top + 468\n",
    "\n",
    "    im1 = im.crop((2142, 333, right, bottom))\n",
    "\n",
    "    # save the cropped image in `cropped` folder, create folder if necessary\n",
    "    im1.save(file.replace('original', 'cropped'))\n",
    "\n",
    "    print(\"processed {} of {}\".format(index + 1, len(original_jpg_files)))"
   ]
  },
  {
   "cell_type": "markdown",
   "metadata": {},
   "source": [
    "send cropped to Roboflow for labelling"
   ]
  },
  {
   "cell_type": "code",
   "execution_count": null,
   "metadata": {},
   "outputs": [],
   "source": [
    "import os\n",
    "from roboflow import Roboflow\n",
    "from dotenv import load_dotenv\n",
    "\n",
    "load_dotenv()  # take environment variables from .env.\n",
    "\n",
    "# Initialize the Roboflow object with your API key\n",
    "rf = Roboflow(api_key=os.environ.get(\"ROBOFLOW_API_KEY\"))\n",
    "\n",
    "# Retrieve your current workspace and project name\n",
    "print(rf.workspace())\n",
    "\n",
    "# Specify the project for upload\n",
    "project = rf.workspace(os.environ.get(\"ROBOFLOW_WORKSPACE\")).project(os.environ.get(\"ROBOFLOW_PROJECT\"))\n",
    "\n",
    "cropped_jpg_files = glob.glob('./sample/cropped/*.jpg')\n",
    "\n",
    "for index, file in enumerate(cropped_jpg_files):\n",
    "    # Upload the image to your project\n",
    "    project.upload(file)\n",
    "\n",
    "    print(\"uploaded {} of {}\".format(index + 1, len(cropped_jpg_files)))"
   ]
  },
  {
   "cell_type": "markdown",
   "metadata": {},
   "source": [
    "### after labelling\n",
    "download training set from Roboflow"
   ]
  },
  {
   "cell_type": "code",
   "execution_count": null,
   "metadata": {},
   "outputs": [],
   "source": [
    "import os\n",
    "from roboflow import Roboflow\n",
    "from dotenv import load_dotenv\n",
    "import shutil\n",
    "\n",
    "load_dotenv()  # take environment variables from .env.\n",
    "\n",
    "rf = Roboflow(api_key=os.environ.get(\"ROBOFLOW_API_KEY\"))\n",
    "project = rf.workspace(os.environ.get(\"ROBOFLOW_WORKSPACE\")).project(os.environ.get(\"ROBOFLOW_PROJECT\"))\n",
    "versions = project.versions()\n",
    "latestVersion = versions[0]\n",
    "\n",
    "print(\"latest version: {}\".format(latestVersion))\n",
    "\n",
    "dataset = project.version(latestVersion.version).download(\"folder\")\n",
    "\n",
    "# YOLO expects validation data to be in a folder named \"val\"\n",
    "# whereas Roboflow names it \"valid\"\n",
    "# delete any existing folder\n",
    "if os.path.exists(dataset.location + \"/valid\"):\n",
    "    shutil.move(dataset.location + \"/valid\", dataset.location + \"/val\")\n"
   ]
  },
  {
   "cell_type": "markdown",
   "metadata": {},
   "source": [
    "train yolov with the custom dataset"
   ]
  },
  {
   "cell_type": "code",
   "execution_count": null,
   "metadata": {},
   "outputs": [],
   "source": [
    "from ultralytics import YOLO\n",
    "\n",
    "# Load a model\n",
    "model = YOLO('yolo11x-cls.pt')  # load a pretrained model (recommended for training)\n",
    "\n",
    "# Train the model\n",
    "results = model.train(\n",
    "    data=dataset.location, epochs=100,\n",
    "    # adjust batch size based on GPU memory\n",
    "    batch=300,\n",
    "    # don't early exit, finish training\n",
    "    patience=0,\n",
    "    # disable random augmentations\n",
    "    fliplr=0, scale=0, erasing=0,\n",
    ")"
   ]
  },
  {
   "cell_type": "markdown",
   "metadata": {},
   "source": [
    "validate data using trained weight"
   ]
  },
  {
   "cell_type": "code",
   "execution_count": null,
   "metadata": {},
   "outputs": [],
   "source": [
    "from ultralytics import YOLO\n",
    "\n",
    "# Load a pretrained YOLOv8n model\n",
    "model = YOLO(str(results.save_dir)+'/weights/best.pt')\n",
    "\n",
    "source = f'{dataset.location}/test/**/*.jpg'\n",
    "\n",
    "# Run inference on the source\n",
    "validateResults = model(source, stream=True,)  # generator of Results objects\n",
    "\n",
    "for result in validateResults:\n",
    "    print(result.probs.top1)"
   ]
  },
  {
   "cell_type": "markdown",
   "metadata": {},
   "source": [
    "export ONNX nodel"
   ]
  },
  {
   "cell_type": "code",
   "execution_count": null,
   "metadata": {},
   "outputs": [],
   "source": [
    "from ultralytics import YOLO\n",
    "\n",
    "model = YOLO(str(results.save_dir)+'/weights/best.pt')\n",
    "model.export(format='onnx')"
   ]
  },
  {
   "cell_type": "markdown",
   "metadata": {},
   "source": [
    "upload trained weights to roboflow"
   ]
  },
  {
   "cell_type": "code",
   "execution_count": null,
   "metadata": {},
   "outputs": [],
   "source": [
    "from dotenv import load_dotenv\n",
    "\n",
    "load_dotenv()  # take environment variables from .env.\n",
    "\n",
    "# model not supported by Roboflow\n",
    "latestVersion.deploy(\"yolov11\", results.save_dir)"
   ]
  }
 ],
 "metadata": {
  "kernelspec": {
   "display_name": "Python 3",
   "language": "python",
   "name": "python3"
  },
  "language_info": {
   "codemirror_mode": {
    "name": "ipython",
    "version": 3
   },
   "file_extension": ".py",
   "mimetype": "text/x-python",
   "name": "python",
   "nbconvert_exporter": "python",
   "pygments_lexer": "ipython3",
   "version": "3.12.9"
  }
 },
 "nbformat": 4,
 "nbformat_minor": 2
}
